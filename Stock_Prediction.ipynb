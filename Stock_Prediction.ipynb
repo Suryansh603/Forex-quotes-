{
  "nbformat": 4,
  "nbformat_minor": 0,
  "metadata": {
    "colab": {
      "name": "Stock Prediction.ipynb",
      "provenance": [],
      "toc_visible": true,
      "authorship_tag": "ABX9TyNU09RTepN2HKFvRRYprRk8"
    },
    "kernelspec": {
      "name": "python3",
      "display_name": "Python 3"
    },
    "accelerator": "GPU"
  },
  "cells": [
    {
      "cell_type": "code",
      "metadata": {
        "id": "9WmhgDVBCh3N",
        "colab_type": "code",
        "colab": {}
      },
      "source": [
        "#imports \n",
        "import pandas as pd\n",
        "import numpy as np\n",
        "import pandas_datareader as web\n",
        "from sklearn.preprocessing import MinMaxScaler\n",
        "import matplotlib.pyplot as plt\n",
        "import math \n",
        "from sklearn.model_selection import train_test_split\n",
        "\n",
        "plt.style.use('fivethirtyeight')\n"
      ],
      "execution_count": 0,
      "outputs": []
    },
    {
      "cell_type": "code",
      "metadata": {
        "id": "mezElyH6EVE_",
        "colab_type": "code",
        "colab": {}
      },
      "source": [
        "df= web.DataReader('AAPL',data_source='yahoo',start='2016-01-01',end='2020-02-08')\n",
        "\n"
      ],
      "execution_count": 0,
      "outputs": []
    },
    {
      "cell_type": "code",
      "metadata": {
        "id": "i3GR1u4oG6dq",
        "colab_type": "code",
        "colab": {
          "base_uri": "https://localhost:8080/",
          "height": 235
        },
        "outputId": "8da110cf-721d-426c-ecef-70a99b18fe10"
      },
      "source": [
        "\n",
        "df=df[['Close']]\n",
        "df.head()"
      ],
      "execution_count": 4,
      "outputs": [
        {
          "output_type": "execute_result",
          "data": {
            "text/html": [
              "<div>\n",
              "<style scoped>\n",
              "    .dataframe tbody tr th:only-of-type {\n",
              "        vertical-align: middle;\n",
              "    }\n",
              "\n",
              "    .dataframe tbody tr th {\n",
              "        vertical-align: top;\n",
              "    }\n",
              "\n",
              "    .dataframe thead th {\n",
              "        text-align: right;\n",
              "    }\n",
              "</style>\n",
              "<table border=\"1\" class=\"dataframe\">\n",
              "  <thead>\n",
              "    <tr style=\"text-align: right;\">\n",
              "      <th></th>\n",
              "      <th>Close</th>\n",
              "    </tr>\n",
              "    <tr>\n",
              "      <th>Date</th>\n",
              "      <th></th>\n",
              "    </tr>\n",
              "  </thead>\n",
              "  <tbody>\n",
              "    <tr>\n",
              "      <th>2016-01-04</th>\n",
              "      <td>105.349998</td>\n",
              "    </tr>\n",
              "    <tr>\n",
              "      <th>2016-01-05</th>\n",
              "      <td>102.709999</td>\n",
              "    </tr>\n",
              "    <tr>\n",
              "      <th>2016-01-06</th>\n",
              "      <td>100.699997</td>\n",
              "    </tr>\n",
              "    <tr>\n",
              "      <th>2016-01-07</th>\n",
              "      <td>96.449997</td>\n",
              "    </tr>\n",
              "    <tr>\n",
              "      <th>2016-01-08</th>\n",
              "      <td>96.959999</td>\n",
              "    </tr>\n",
              "  </tbody>\n",
              "</table>\n",
              "</div>"
            ],
            "text/plain": [
              "                 Close\n",
              "Date                  \n",
              "2016-01-04  105.349998\n",
              "2016-01-05  102.709999\n",
              "2016-01-06  100.699997\n",
              "2016-01-07   96.449997\n",
              "2016-01-08   96.959999"
            ]
          },
          "metadata": {
            "tags": []
          },
          "execution_count": 4
        }
      ]
    },
    {
      "cell_type": "code",
      "metadata": {
        "id": "mcgEKbtAHK5b",
        "colab_type": "code",
        "colab": {}
      },
      "source": [
        "forecast_out=1\n",
        "df['Prediction']=df[['Close']].shift(-forecast_out)\n",
        "\n",
        "\n"
      ],
      "execution_count": 0,
      "outputs": []
    },
    {
      "cell_type": "code",
      "metadata": {
        "id": "SiDN9DtaJBb_",
        "colab_type": "code",
        "colab": {}
      },
      "source": [
        "X=np.array(df.drop(['Prediction'],1))\n",
        "X=X[:-forecast_out]\n"
      ],
      "execution_count": 0,
      "outputs": []
    },
    {
      "cell_type": "code",
      "metadata": {
        "id": "ss7sebSfJ1Hp",
        "colab_type": "code",
        "colab": {}
      },
      "source": [
        "y=np.array(df['Prediction'])\n",
        "y=y[:-forecast_out]"
      ],
      "execution_count": 0,
      "outputs": []
    },
    {
      "cell_type": "code",
      "metadata": {
        "id": "pqaCcJXLKnP6",
        "colab_type": "code",
        "outputId": "0bfbb344-7599-48c2-e963-85be713149bf",
        "colab": {
          "base_uri": "https://localhost:8080/",
          "height": 34
        }
      },
      "source": [
        "X_train,X_test,y_train,y_test=train_test_split(X,y,random_state=0,train_size=0.8)\n",
        "\n",
        "from sklearn.linear_model import  LinearRegression\n",
        "clf= LinearRegression()\n",
        "clf.fit(X_train,y_train)\n",
        "print(clf.score(X_test,y_test))"
      ],
      "execution_count": 8,
      "outputs": [
        {
          "output_type": "stream",
          "text": [
            "0.9966752559734541\n"
          ],
          "name": "stdout"
        }
      ]
    },
    {
      "cell_type": "code",
      "metadata": {
        "id": "fvFh4iVyOEoU",
        "colab_type": "code",
        "outputId": "ab9633f8-fa71-48ca-b5a0-551156c64dd6",
        "colab": {
          "base_uri": "https://localhost:8080/",
          "height": 34
        }
      },
      "source": [
        "x_forecast=np.array(df.drop(['Prediction'],1))[-forecast_out:]\n",
        "print(clf.predict(x_forecast))\n"
      ],
      "execution_count": 10,
      "outputs": [
        {
          "output_type": "stream",
          "text": [
            "[325.7185972  320.53004371]\n"
          ],
          "name": "stdout"
        }
      ]
    }
  ]
}